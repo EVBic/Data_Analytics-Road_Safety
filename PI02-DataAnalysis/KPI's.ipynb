{
 "cells": [
  {
   "cell_type": "markdown",
   "metadata": {},
   "source": [
    "KPI´S"
   ]
  },
  {
   "cell_type": "code",
   "execution_count": 1,
   "metadata": {},
   "outputs": [],
   "source": [
    "import pandas as pd\n",
    "import matplotlib.pyplot as plt\n",
    "import matplotlib.colors as mcolors\n",
    "import numpy as np"
   ]
  },
  {
   "cell_type": "code",
   "execution_count": 2,
   "metadata": {},
   "outputs": [],
   "source": [
    "df_accidents= pd.read_csv('Datasets\\df_road_accidents.csv', encoding='utf-8')\n",
    "cmap = mcolors.LinearSegmentedColormap.from_list(\"custom_gradient\", ['#00BFFF', '#000000'])"
   ]
  },
  {
   "cell_type": "markdown",
   "metadata": {},
   "source": [
    "1.- KPI 1: Reduce by 10% the homicide rate in road accidents in the last six months, in CABA, compared to the homicide rate in road accidents in the previous semester."
   ]
  },
  {
   "cell_type": "code",
   "execution_count": 3,
   "metadata": {},
   "outputs": [],
   "source": [
    "df_accidents['Date'] = pd.to_datetime(df_accidents['Date'])\n",
    "df_accidents['Year'] = df_accidents['Date'].dt.year\n",
    "df_accidents['Semester'] = (df_accidents['Date'].dt.month - 1) // 6 + 1\n",
    "\n",
    "total_population = 3120612\n",
    "df_last_semester = df_accidents[(df_accidents['Year'] == df_accidents['Date'].dt.year.max()) & (df_accidents['Semester'] == 2)]\n",
    "df_prev_semester = df_accidents[(df_accidents['Year'] == df_accidents['Date'].dt.year.max()) & (df_accidents['Semester'] == 1)]\n",
    "\n",
    "homicide_rate_last_semester = len(df_last_semester[df_last_semester['Num victims'] > 0]) / total_population * 100000\n",
    "homicide_rate_prev_semester = len(df_prev_semester[df_prev_semester['Num victims'] > 0]) / total_population * 100000\n",
    "\n",
    "kpi1 = (homicide_rate_prev_semester - homicide_rate_last_semester) / homicide_rate_prev_semester * 100"
   ]
  },
  {
   "cell_type": "code",
   "execution_count": 4,
   "metadata": {},
   "outputs": [
    {
     "data": {
      "text/plain": [
       "22.222222222222225"
      ]
     },
     "execution_count": 4,
     "metadata": {},
     "output_type": "execute_result"
    }
   ],
   "source": [
    "kpi1"
   ]
  },
  {
   "cell_type": "code",
   "execution_count": 5,
   "metadata": {},
   "outputs": [
    {
     "data": {
      "text/html": [
       "<div>\n",
       "<style scoped>\n",
       "    .dataframe tbody tr th:only-of-type {\n",
       "        vertical-align: middle;\n",
       "    }\n",
       "\n",
       "    .dataframe tbody tr th {\n",
       "        vertical-align: top;\n",
       "    }\n",
       "\n",
       "    .dataframe thead th {\n",
       "        text-align: right;\n",
       "    }\n",
       "</style>\n",
       "<table border=\"1\" class=\"dataframe\">\n",
       "  <thead>\n",
       "    <tr style=\"text-align: right;\">\n",
       "      <th></th>\n",
       "      <th>Year</th>\n",
       "      <th>Semester</th>\n",
       "      <th>Num victims</th>\n",
       "      <th>Percentage Change</th>\n",
       "      <th>Trend</th>\n",
       "    </tr>\n",
       "  </thead>\n",
       "  <tbody>\n",
       "    <tr>\n",
       "      <th>9</th>\n",
       "      <td>2020</td>\n",
       "      <td>2</td>\n",
       "      <td>49</td>\n",
       "      <td>63.333333</td>\n",
       "      <td>Increase</td>\n",
       "    </tr>\n",
       "    <tr>\n",
       "      <th>10</th>\n",
       "      <td>2021</td>\n",
       "      <td>1</td>\n",
       "      <td>54</td>\n",
       "      <td>10.204082</td>\n",
       "      <td>Increase</td>\n",
       "    </tr>\n",
       "    <tr>\n",
       "      <th>11</th>\n",
       "      <td>2021</td>\n",
       "      <td>2</td>\n",
       "      <td>42</td>\n",
       "      <td>-22.222222</td>\n",
       "      <td>Decrease</td>\n",
       "    </tr>\n",
       "  </tbody>\n",
       "</table>\n",
       "</div>"
      ],
      "text/plain": [
       "    Year  Semester  Num victims  Percentage Change     Trend\n",
       "9   2020         2           49          63.333333  Increase\n",
       "10  2021         1           54          10.204082  Increase\n",
       "11  2021         2           42         -22.222222  Decrease"
      ]
     },
     "execution_count": 5,
     "metadata": {},
     "output_type": "execute_result"
    }
   ],
   "source": [
    "df_accidents['Date'] = pd.to_datetime(df_accidents['Date'])\n",
    "df_accidents['Year'] = df_accidents['Date'].dt.year\n",
    "df_accidents['Semester'] = (df_accidents['Date'].dt.month - 1) // 6 + 1\n",
    "df_accidents['Num victims'] = 1\n",
    "\n",
    "victims_per_semester = df_accidents.groupby(['Year', 'Semester'])['Num victims'].sum().reset_index()\n",
    "victims_per_semester['Percentage Change'] = victims_per_semester['Num victims'].pct_change() * 100\n",
    "victims_per_semester['Year'] = victims_per_semester['Year'].astype(int)\n",
    "victims_per_semester['Semester'] = victims_per_semester['Semester'].astype(int)\n",
    "victims_per_semester['Trend'] = victims_per_semester['Percentage Change'].apply(lambda x: 'Increase' if x > 0 else ('Decrease' if x < 0 else 'No Change'))\n",
    "victims_per_semester.tail(3)"
   ]
  },
  {
   "cell_type": "code",
   "execution_count": 6,
   "metadata": {},
   "outputs": [
    {
     "data": {
      "image/png": "[encoded data removed]",
      "text/plain": [
       "<Figure size 640x480 with 1 Axes>"
      ]
     },
     "metadata": {},
     "output_type": "display_data"
    },
    {
     "name": "stdout",
     "output_type": "stream",
     "text": [
      "The percentage difference between the first and second semester is 22.22%\n"
     ]
    }
   ],
   "source": [
    "homicide_rate_first_semester = 54 \n",
    "homicide_rate_second_semester = 42\n",
    "\n",
    "percentage_difference = (homicide_rate_first_semester - homicide_rate_second_semester) / homicide_rate_first_semester * 100\n",
    "semesters = ['First Semester ´21', 'Second Semester ´21']\n",
    "\n",
    "rates = [homicide_rate_first_semester, homicide_rate_second_semester]\n",
    "\n",
    "plt.bar(semesters, rates)\n",
    "plt.title('Homicide Rate in 2021')\n",
    "plt.xlabel('Semester')\n",
    "plt.ylabel('Homicide Rate')\n",
    "\n",
    "plt.show()\n",
    "print(f'The percentage difference between the first and second semester is {percentage_difference:.2f}%')"
   ]
  },
  {
   "cell_type": "markdown",
   "metadata": {},
   "source": [
    "The KPI1 value of 22.222222222222225% means that the homicide rate in road accidents in the last six months in CABA has decreased compared to the homicide rate in road accidents in the previous semester.\n",
    "\n",
    "This is a significant reduction and indicates that measures taken to improve road safety may be effective. However, it’s important to consider other factors that could have contributed to this decrease. For example, there could have been fewer vehicles on the road due to lockdowns or other restrictions, or there could have been changes in reporting or data collection methods.\n",
    "\n",
    "It’s also worth noting that while a reduction in the homicide rate is a positive outcome, any loss of life is tragic. Therefore, continued efforts should be made to improve road safety and aim for a further reduction in the homicide rate in road accidents."
   ]
  },
  {
   "cell_type": "markdown",
   "metadata": {},
   "source": [
    "\n",
    "\n",
    "2.- KPI 2: Reduce by 7% the number of fatal motorcyclist accidents in the last year, in CABA, compared to the previous year."
   ]
  },
  {
   "cell_type": "code",
   "execution_count": 7,
   "metadata": {},
   "outputs": [
    {
     "name": "stdout",
     "output_type": "stream",
     "text": [
      "   Date  FATAL_VICTIMS      RATE  DIFFERENCE\n",
      "3  2019             50  1.602250  -12.280702\n",
      "4  2020             27  0.865215  -46.000000\n",
      "5  2021             45  1.442025   66.666667\n"
     ]
    }
   ],
   "source": [
    "df_accidents['date'] = pd.to_datetime(df_accidents['Date'])\n",
    "df_motos = df_accidents[df_accidents['Victim'] == 'MOTO']\n",
    "\n",
    "victims_per_year = df_motos.groupby(df_motos['Date'].dt.year).size().reset_index(name='FATAL_VICTIMS')\n",
    "total_population = 3120612\n",
    "\n",
    "victims_per_year['RATE'] = (victims_per_year['FATAL_VICTIMS'] / total_population) * 100000\n",
    "victims_per_year['DIFFERENCE'] = (victims_per_year['RATE'] / victims_per_year['RATE'].shift(1) - 1) * 100\n",
    "\n",
    "print(victims_per_year.tail(3))"
   ]
  },
  {
   "cell_type": "markdown",
   "metadata": {},
   "source": [
    "Percentage Change in Road Accidents Per Year:"
   ]
  },
  {
   "cell_type": "code",
   "execution_count": 8,
   "metadata": {},
   "outputs": [
    {
     "name": "stderr",
     "output_type": "stream",
     "text": [
      "C:\\Users\\m_evi\\AppData\\Local\\Temp\\ipykernel_86560\\1858060858.py:1: SettingWithCopyWarning: \n",
      "A value is trying to be set on a copy of a slice from a DataFrame.\n",
      "Try using .loc[row_indexer,col_indexer] = value instead\n",
      "\n",
      "See the caveats in the documentation: https://pandas.pydata.org/pandas-docs/stable/user_guide/indexing.html#returning-a-view-versus-a-copy\n",
      "  df_motos['Date'] = pd.to_datetime(df_motos['Date'])\n",
      "C:\\Users\\m_evi\\AppData\\Local\\Temp\\ipykernel_86560\\1858060858.py:2: SettingWithCopyWarning: \n",
      "A value is trying to be set on a copy of a slice from a DataFrame.\n",
      "Try using .loc[row_indexer,col_indexer] = value instead\n",
      "\n",
      "See the caveats in the documentation: https://pandas.pydata.org/pandas-docs/stable/user_guide/indexing.html#returning-a-view-versus-a-copy\n",
      "  df_motos['Year'] = df_motos['Date'].dt.year\n"
     ]
    },
    {
     "data": {
      "image/png": "[encoded data removed]",
      "text/plain": [
       "<Figure size 900x600 with 1 Axes>"
      ]
     },
     "metadata": {},
     "output_type": "display_data"
    }
   ],
   "source": [
    "df_motos['Date'] = pd.to_datetime(df_motos['Date'])\n",
    "df_motos['Year'] = df_motos['Date'].dt.year\n",
    "\n",
    "accidents_per_year_moto = df_motos.groupby('Year')['Num victims'].sum().reset_index()\n",
    "accidents_per_year_moto['Percentage Change'] = accidents_per_year_moto['Num victims'].pct_change() * 100\n",
    "colors = cmap(np.linspace(0, 1, len(accidents_per_year_moto)))\n",
    "\n",
    "plt.figure(figsize=(9, 6))\n",
    "plt.bar(accidents_per_year_moto['Year'].astype(str), accidents_per_year_moto['Percentage Change'], color=colors)\n",
    "plt.xlabel('Year')\n",
    "plt.ylabel('Percentage Change (%)')\n",
    "plt.title('Percentage Change in Road Accidents Per Year for MOTO')\n",
    "plt.xticks(rotation=45)\n",
    "plt.grid(axis='y', linestyle='--', alpha=0.7)\n",
    "\n",
    "plt.tight_layout()\n",
    "plt.show()\n"
   ]
  },
  {
   "cell_type": "markdown",
   "metadata": {},
   "source": [
    "The KPI2 value is 66.67%, this means that the number of fatal accidents involving motorcyclists in the last year in CABA has increased by approximately 66.67% compared to the previous year.\n",
    "\n",
    "This is a significant increase and suggests that the road safety situation, particularly for motorcyclists, has worsened. It’s important to investigate the factors that could have contributed to this increase. For example, there could have been an increase in the number of motorcyclists on the road as restrictions eased, changes in traffic patterns, or changes in reporting or data collection methods.\n",
    "\n",
    "While an increase in fatal accidents involving motorcyclists is a concerning outcome, it highlights the need for urgent action. Efforts should be made to improve road safety for motorcyclists and aim for a reduction in fatal accidents.\n",
    "\n",
    "The goal was to reduce the number of fatal accidents involving motorcyclists by 7% in the last year in CABA compared to the previous year. This target was set to improve road safety, particularly for motorcyclists, who are often at higher risk of fatal accidents.\n",
    "\n",
    "However, the data shows an increase of approximately 66.67% in the number of fatal accidents involving motorcyclists compared to the previous year. This is significantly off the target and indicates that the situation has worsened rather than improved.\n",
    "\n",
    "This discrepancy between the target and the actual outcome highlights the urgent need for interventions to improve road safety for motorcyclists. It’s important to investigate the factors contributing to this increase and to implement measures to address them.\n",
    "\n",
    "Moreover, it’s crucial to continuously monitor these KPIs and adjust the strategies as necessary to achieve the safety objectives. This could involve implementing new safety measures, enhancing existing ones, or conducting further research to understand the underlying causes of the increase in accidents. \n",
    "\n",
    "It’s also important to consider the limitations of these KPIs. They provide a snapshot of the situation based on the available data, but they may not capture all relevant factors or nuances. For a more comprehensive understanding, these KPIs could be complemented with additional data and analysis, such as demographic information about the victims, specific locations of the accidents, time of the accidents, and more.\n",
    "\n",
    "The COVID-19 pandemic and the associated lockdowns and restrictions have had a significant impact on many aspects of life, including road traffic. In 2020 and 2021, many cities around the world, including CABA, implemented lockdowns and travel restrictions. As the city reopens and traffic levels return to normal, it will be important to monitor these KPIs to see if the trend continues. If the number of fatal accidents continues to increase, it may indicate that the increase was not solely due to the temporary changes in traffic during the lockdown, but could also be due to other factors.\n",
    "\n",
    "In conclusion, while the KPIs suggest a concerning trend in road safety in CABA after the pandemic, continuous monitoring and analysis are necessary to understand the true impact and to identify areas where further interventions are needed.\n"
   ]
  },
  {
   "cell_type": "markdown",
   "metadata": {},
   "source": [
    "3.-KPI3 reduce by 10% the number of victims who die on AVENUES in the last year, taking into account the previous one."
   ]
  },
  {
   "cell_type": "code",
   "execution_count": 10,
   "metadata": {},
   "outputs": [],
   "source": [
    "df_accidents['Date'] = pd.to_datetime(df_accidents['Date'])\n",
    "df_2020 = df_accidents[(df_accidents['Date'].dt.year == 2020) & (df_accidents['Street Tipe'] == 'AVENIDA')]\n",
    "df_2021 = df_accidents[(df_accidents['Date'].dt.year == 2021) & (df_accidents['Street Tipe'] == 'AVENIDA')]\n",
    "\n",
    "victimas_2020 = df_2020['Num victims'].sum()\n",
    "victimas_2021 = df_2021['Num victims'].sum()\n",
    "\n",
    "reduccion_esperada = victimas_2020 * 0.9\n",
    "\n"
   ]
  },
  {
   "cell_type": "code",
   "execution_count": 14,
   "metadata": {},
   "outputs": [
    {
     "name": "stdout",
     "output_type": "stream",
     "text": [
      "The actual reduction was -17.31%.\n",
      "The difference with respect to the expected 10% reduction is 27.31%.\n"
     ]
    }
   ],
   "source": [
    "reduccion_real = (victimas_2020 - victimas_2021) / victimas_2020 * 100\n",
    "\n",
    "diferencia = 10 - reduccion_real\n",
    "\n",
    "print(f\"The actual reduction was {reduccion_real:.2f}%.\")\n",
    "print(f\"The difference with respect to the expected 10% reduction is {diferencia:.2f}%.\")"
   ]
  },
  {
   "cell_type": "code",
   "execution_count": 13,
   "metadata": {},
   "outputs": [
    {
     "name": "stdout",
     "output_type": "stream",
     "text": [
      "Target not achieved\n"
     ]
    }
   ],
   "source": [
    "if victimas_2021 <= reduccion_esperada:\n",
    "    print(\"Objective reached\")\n",
    "else:\n",
    "    print(\"Target not achieved\")"
   ]
  },
  {
   "cell_type": "code",
   "execution_count": 20,
   "metadata": {},
   "outputs": [
    {
     "name": "stdout",
     "output_type": "stream",
     "text": [
      "The actual reduction was -17.31%.\n"
     ]
    }
   ],
   "source": [
    "# Primero, asegúrate de que la columna 'Date' sea de tipo datetime\n",
    "df_accidents['Date'] = pd.to_datetime(df_accidents['Date'])\n",
    "\n",
    "# Filtra los datos para las víctimas en avenidas en 2020 y 2021\n",
    "df_2020 = df_accidents[(df_accidents['Date'].dt.year == 2020) & (df_accidents['Street Tipe'] == 'AVENIDA')]\n",
    "df_2021 = df_accidents[(df_accidents['Date'].dt.year == 2021) & (df_accidents['Street Tipe'] == 'AVENIDA')]\n",
    "\n",
    "# Calcula el número total de víctimas para cada año\n",
    "victimas_2020 = df_2020['Num victims'].sum()\n",
    "victimas_2021 = df_2021['Num victims'].sum()\n",
    "\n",
    "# Calcula la reducción real\n",
    "KPI3ReduccionReal = (victimas_2020 - victimas_2021) / victimas_2020 * 100\n",
    "\n",
    "print(f\"The actual reduction was {KPI3ReduccionReal:.2f}%.\")"
   ]
  },
  {
   "cell_type": "code",
   "execution_count": 24,
   "metadata": {},
   "outputs": [
    {
     "data": {
      "image/png": "[encoded data removed]",
      "text/plain": [
       "<Figure size 640x480 with 1 Axes>"
      ]
     },
     "metadata": {},
     "output_type": "display_data"
    },
    {
     "name": "stdout",
     "output_type": "stream",
     "text": [
      "Victims Avenues 2020: 52.\n",
      "Victims Avenues 2021: 61.\n"
     ]
    }
   ],
   "source": [
    "import matplotlib.pyplot as plt\n",
    "\n",
    "# Filtra los datos para las víctimas en avenidas en 2020 y 2021\n",
    "df_2020 = df_accidents[(df_accidents['Date'].dt.year == 2020) & (df_accidents['Street Tipe'] == 'AVENIDA')]\n",
    "df_2021 = df_accidents[(df_accidents['Date'].dt.year == 2021) & (df_accidents['Street Tipe'] == 'AVENIDA')]\n",
    "\n",
    "# Calcula el número total de víctimas para cada año\n",
    "victims_2020 = df_2020['Num victims'].sum()\n",
    "victims_2021 = df_2021['Num victims'].sum()\n",
    "\n",
    "# Crea un gráfico de barras\n",
    "plt.bar(['2020', '2021'], [victimas_2020, victims_2021])\n",
    "plt.xlabel('Year')\n",
    "plt.ylabel('Num Victims')\n",
    "plt.title('Num Victims AVENUES 2020 y 2021')\n",
    "plt.show()\n",
    "print(f\"Victims Avenues 2020: {victims_2020}.\")\n",
    "print(f\"Victims Avenues 2021: {victims_2021}.\")"
   ]
  },
  {
   "cell_type": "markdown",
   "metadata": {},
   "source": [
    "The KPI3 was set with the objective of reducing the number of victims who die on avenues by 10% compared to the previous year. However, the results show that there was actually an increase of 17.31% in the number of victims in 2021 compared to 2020. This means that not only was the expected reduction not achieved, but the situation actually worsened.\n",
    "\n",
    "The difference with respect to the expected reduction of 10% is 27.31%. This means we are 27.31% below the victim reduction target that had been set.\n",
    "\n",
    "These results suggest that the measures implemented to reduce the number of victims on avenues in 2021 were not effective. It may be useful to review these measures and consider new strategies to improve safety on avenues and reduce the number of victims.\n",
    "\n",
    "From a data analyst’s perspective, it’s crucial to understand the factors that contributed to this increase. It could be due to a variety of reasons such as changes in traffic volume, changes in traffic rules, or even external factors such as weather conditions"
   ]
  }
 ],
 "metadata": {
  "kernelspec": {
   "display_name": "Python 3",
   "language": "python",
   "name": "python3"
  },
  "language_info": {
   "codemirror_mode": {
    "name": "ipython",
    "version": 3
   },
   "file_extension": ".py",
   "mimetype": "text/x-python",
   "name": "python",
   "nbconvert_exporter": "python",
   "pygments_lexer": "ipython3",
   "version": "3.11.8"
  }
 },
 "nbformat": 4,
 "nbformat_minor": 2
}
